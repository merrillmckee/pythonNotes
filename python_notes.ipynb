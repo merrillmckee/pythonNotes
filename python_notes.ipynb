{
 "cells": [
  {
   "cell_type": "markdown",
   "id": "124d5930-68c0-4c1f-81c2-02b030b24b4d",
   "metadata": {},
   "source": [
    "Python built-in containers:  list, set, dict, tuple\n",
    "\n",
    "Lists are mutable sequences.  \n",
    "Sets are mutable (\"frozenset\" is immutable), unordered, and hashable.  \n",
    "Dictionaries are mutable, unordered, and hashable.  \n",
    "Tuples are immutable sequences.  "
   ]
  },
  {
   "cell_type": "code",
   "execution_count": 70,
   "id": "d61a425b-6ba6-4d71-808c-6c94be5d931a",
   "metadata": {},
   "outputs": [
    {
     "name": "stdout",
     "output_type": "stream",
     "text": [
      "mylist is [1, 2, 3, 4, 5]\n",
      "myset is {1, 2, 3, 4, 5}\n",
      "mydict is {1: 'one', 2: 'two', 3: 'three', 4: 'four', 5: 'five'}\n",
      "mytuple is (1, 2, 3, 4, 5)\n"
     ]
    }
   ],
   "source": [
    "# Simple examples of each container\n",
    "mylist = [1,2,3,4,5]\n",
    "myset = set([1,2,3,4,5])\n",
    "mydict = {1:\"one\", 2:\"two\", 3:\"three\", 4:\"four\", 5:\"five\"}\n",
    "mytuple = (1,2,3,4,5)\n",
    "print(\"mylist is \" + str(mylist))\n",
    "print(\"myset is \" + str(myset))\n",
    "print(\"mydict is \" + str(mydict))\n",
    "print(\"mytuple is \" + str(mytuple))"
   ]
  },
  {
   "cell_type": "markdown",
   "id": "5cc62ca1-477e-42bb-b660-b0a8242bb00a",
   "metadata": {},
   "source": [
    "Sequences support slicing similar to MATLAB."
   ]
  },
  {
   "cell_type": "code",
   "execution_count": 71,
   "id": "8ecb7e11-90aa-467a-9684-5945513979ee",
   "metadata": {},
   "outputs": [
    {
     "name": "stdout",
     "output_type": "stream",
     "text": [
      "[2, 3]\n",
      "(2, 3)\n"
     ]
    }
   ],
   "source": [
    "# Both of these will output 2,3\n",
    "print(mylist[1:3])\n",
    "print(mytuple[-4:-2])"
   ]
  },
  {
   "cell_type": "markdown",
   "id": "b1d26959-3da0-4a51-8c89-41a39a2f7908",
   "metadata": {},
   "source": [
    "Mutable objects can be referenced or copied.  If an immutable object's value is updated, a new object is created."
   ]
  },
  {
   "cell_type": "code",
   "execution_count": 73,
   "id": "e0eeda4e-d12e-4d63-84b5-84cfbd7003e2",
   "metadata": {},
   "outputs": [
    {
     "name": "stdout",
     "output_type": "stream",
     "text": [
      "[0, 2, 3, 4, 5]\n",
      "[0, 2, 3, 4, 5]\n",
      "Both mylist and mylist_ref reference the same address\n",
      "True\n"
     ]
    }
   ],
   "source": [
    "mylist_ref = mylist\n",
    "mylist_ref[0] = 0\n",
    "print(mylist)\n",
    "print(mylist_ref)\n",
    "print(\"Both mylist and mylist_ref reference the same address\")\n",
    "print(mylist == mylist_ref)"
   ]
  },
  {
   "cell_type": "code",
   "execution_count": 74,
   "id": "95ab4895-2012-4579-8144-fbcaf0052279",
   "metadata": {},
   "outputs": [
    {
     "name": "stdout",
     "output_type": "stream",
     "text": [
      "[1, 2, 3, 4, 5]\n",
      "[1, 2, 3, 4, 9]\n",
      "The variables mylist and mylist_copy are unique lists\n",
      "False\n"
     ]
    }
   ],
   "source": [
    "mylist[0] = 1 # revert previous change\n",
    "mylist_copy = mylist[:]\n",
    "mylist_copy[-1] = 9\n",
    "print(mylist)\n",
    "print(mylist_copy)\n",
    "print(\"The variables mylist and mylist_copy are unique lists\")\n",
    "print(mylist == mylist_copy)"
   ]
  },
  {
   "cell_type": "markdown",
   "id": "08eb02a0-46a7-477f-a1fb-2bdbf7d7b009",
   "metadata": {},
   "source": [
    "Lists, sets, dictionaries, tuples are all iterables.  Below is a generic for loop on \n",
    "a container that prints the values.  All 4 cases will print the same results."
   ]
  },
  {
   "cell_type": "code",
   "execution_count": 75,
   "id": "a652e16a-36ec-4521-aa24-0a2cf5fd9a76",
   "metadata": {},
   "outputs": [
    {
     "name": "stdout",
     "output_type": "stream",
     "text": [
      "1\n",
      "2\n",
      "3\n",
      "4\n",
      "5\n",
      "1\n",
      "2\n",
      "3\n",
      "4\n",
      "5\n",
      "1\n",
      "2\n",
      "3\n",
      "4\n",
      "5\n",
      "1\n",
      "2\n",
      "3\n",
      "4\n",
      "5\n"
     ]
    }
   ],
   "source": [
    "def forloop(mycontainer):\n",
    "    for i in mycontainer:\n",
    "        print(i)\n",
    "\n",
    "forloop(mylist)\n",
    "forloop(myset)\n",
    "forloop(mydict)\n",
    "forloop(mytuple)"
   ]
  },
  {
   "cell_type": "markdown",
   "id": "833509a2-eea4-473d-92e7-43622059d9e2",
   "metadata": {},
   "source": [
    "We could create an iterator instead.  All 4 cases will print the same results."
   ]
  },
  {
   "cell_type": "code",
   "execution_count": 76,
   "id": "14f18da4-f8d8-4b0a-8f66-7c455a548da2",
   "metadata": {},
   "outputs": [
    {
     "name": "stdout",
     "output_type": "stream",
     "text": [
      "1\n",
      "2\n",
      "3\n",
      "4\n",
      "5\n",
      "1\n",
      "2\n",
      "3\n",
      "4\n",
      "5\n",
      "1\n",
      "2\n",
      "3\n",
      "4\n",
      "5\n",
      "1\n",
      "2\n",
      "3\n",
      "4\n",
      "5\n"
     ]
    }
   ],
   "source": [
    "def iteratorloop(mycontainer):\n",
    "    iterator = iter(mycontainer)\n",
    "    for i in iterator:\n",
    "        print(i)\n",
    "        \n",
    "iteratorloop(mylist)\n",
    "iteratorloop(myset)\n",
    "iteratorloop(mydict)\n",
    "iteratorloop(mytuple)"
   ]
  },
  {
   "cell_type": "markdown",
   "id": "d48e4509-343f-4b5d-97b0-8a70c0b052a8",
   "metadata": {},
   "source": [
    "An enumerator is an option that also outputs a zero-based index."
   ]
  },
  {
   "cell_type": "code",
   "execution_count": 78,
   "id": "bb59f63f-59ee-4fc2-83ad-6c3fdf9bd9ec",
   "metadata": {},
   "outputs": [
    {
     "name": "stdout",
     "output_type": "stream",
     "text": [
      "1\n",
      "2\n",
      "3\n",
      "4\n",
      "5\n",
      "1\n",
      "2\n",
      "3\n",
      "4\n",
      "5\n",
      "1\n",
      "2\n",
      "3\n",
      "4\n",
      "5\n",
      "1\n",
      "2\n",
      "3\n",
      "4\n",
      "5\n"
     ]
    }
   ],
   "source": [
    "def enumeratorloop(mycontainer):\n",
    "    enumerator = enumerate(mycontainer)\n",
    "    for i, x in enumerator:\n",
    "        print(x) # x is the value, i is a zero-based index\n",
    "        #print(str(i) + \" \" + str(x))\n",
    "enumeratorloop(mylist)\n",
    "enumeratorloop(myset)\n",
    "enumeratorloop(mydict)\n",
    "enumeratorloop(mytuple)"
   ]
  },
  {
   "cell_type": "markdown",
   "id": "8953c091-e76c-41ff-92c6-4e168e0d5d90",
   "metadata": {},
   "source": [
    "An example of mapping an anonymous function."
   ]
  },
  {
   "cell_type": "code",
   "execution_count": 79,
   "id": "b9415e09-7c53-4830-a908-020faae0a51d",
   "metadata": {},
   "outputs": [
    {
     "name": "stdout",
     "output_type": "stream",
     "text": [
      "2\n",
      "4\n",
      "6\n",
      "8\n",
      "10\n"
     ]
    }
   ],
   "source": [
    "def doublebymapping(mycontainer):\n",
    "    doubled = map(lambda x: 2*x, mycontainer)\n",
    "    for i in doubled:\n",
    "        print(i)\n",
    "doublebymapping(mylist)"
   ]
  },
  {
   "cell_type": "markdown",
   "id": "aad4830f-cba1-454a-8a55-487418b43d0d",
   "metadata": {},
   "source": [
    "An example of filtering in Python.  Similar to MATLAB's filtering capabilities."
   ]
  },
  {
   "cell_type": "code",
   "execution_count": 80,
   "id": "69aa51e1-a417-4d9d-9aab-4d873ad9fd29",
   "metadata": {},
   "outputs": [
    {
     "name": "stdout",
     "output_type": "stream",
     "text": [
      "2\n",
      "4\n"
     ]
    }
   ],
   "source": [
    "def evennumbers(mycontainer):\n",
    "    evens = filter(lambda x: x%2==0, mycontainer)\n",
    "    for i in evens:\n",
    "        print(i)\n",
    "evennumbers(mylist)"
   ]
  },
  {
   "cell_type": "markdown",
   "id": "d3631fa8-318d-46fa-859d-137cc561fe58",
   "metadata": {},
   "source": [
    "An example of a generator; similar to C#'s generator/yield"
   ]
  },
  {
   "cell_type": "code",
   "execution_count": 81,
   "id": "bf386128-85a2-4997-9ec8-7bb7bd430c81",
   "metadata": {},
   "outputs": [
    {
     "name": "stdout",
     "output_type": "stream",
     "text": [
      "1\n",
      "2\n",
      "3\n"
     ]
    }
   ],
   "source": [
    "def generateValues(mycontainer):\n",
    "    for i in mycontainer:\n",
    "        yield i\n",
    "myvalues = generateValues(mylist)\n",
    "print(next(myvalues))\n",
    "print(next(myvalues))\n",
    "print(next(myvalues))"
   ]
  },
  {
   "cell_type": "markdown",
   "id": "b2b92e04-d665-48b2-b862-b6ca831bf511",
   "metadata": {},
   "source": [
    "Containers can contain references to other objects.  The referred-to objects can be changed whether or not  \n",
    "the container is immutable"
   ]
  },
  {
   "cell_type": "code",
   "execution_count": 82,
   "id": "67fadfab-2e20-4206-9861-49325d4fb389",
   "metadata": {},
   "outputs": [
    {
     "name": "stdout",
     "output_type": "stream",
     "text": [
      "([1, 3, 5], [2, 4, 6])\n"
     ]
    }
   ],
   "source": [
    "odds = [1,3,5]\n",
    "evens = [2,4,6]\n",
    "myimmutabletuple = (odds, evens)\n",
    "print(myimmutabletuple)"
   ]
  },
  {
   "cell_type": "code",
   "execution_count": 83,
   "id": "3dec4476-1748-4369-9174-ac39c4f9a82c",
   "metadata": {},
   "outputs": [
    {
     "name": "stdout",
     "output_type": "stream",
     "text": [
      "([1, 2222, 5], [2, 4, 6])\n"
     ]
    }
   ],
   "source": [
    "odds[1] = 2222\n",
    "print(myimmutabletuple)"
   ]
  },
  {
   "cell_type": "markdown",
   "id": "8233d411-16eb-427f-8510-2a94b51edd87",
   "metadata": {},
   "source": [
    "Using Python caching with decorators; https://stackoverflow.com/questions/815110/is-there-a-decorator-to-simply-cache-function-return-values\n",
    "\n",
    "The next two blocks are identical Fibonacci examples with the only variable being the maximum cache size.  Once the cache size is reduced to \n",
    "2 the performance degrades significantly."
   ]
  },
  {
   "cell_type": "code",
   "execution_count": 84,
   "id": "f7dbddb5-e09e-4d99-a1a1-ac2b3dd3333a",
   "metadata": {},
   "outputs": [
    {
     "name": "stdout",
     "output_type": "stream",
     "text": [
      "[0, 1, 1, 2, 3, 5, 8, 13, 21, 34, 55, 89, 144, 233, 377, 610]\n",
      "CacheInfo(hits=28, misses=16, maxsize=3, currsize=3)\n"
     ]
    }
   ],
   "source": [
    "from functools import lru_cache\n",
    "@lru_cache(maxsize=3)\n",
    "def fib1(n):\n",
    "    if n < 2:\n",
    "        return n\n",
    "    return fib1(n-1) + fib1(n-2)\n",
    "print([fib1(n) for n in range(16)])\n",
    "print(fib1.cache_info())"
   ]
  },
  {
   "cell_type": "code",
   "execution_count": 85,
   "id": "27e14fb2-3fa0-41c5-9454-8b1ef10a7213",
   "metadata": {},
   "outputs": [
    {
     "name": "stdout",
     "output_type": "stream",
     "text": [
      "[0, 1, 1, 2, 3, 5, 8, 13, 21, 34, 55, 89, 144, 233, 377, 610]\n",
      "CacheInfo(hits=83, misses=329, maxsize=2, currsize=2)\n"
     ]
    }
   ],
   "source": [
    "from functools import lru_cache\n",
    "@lru_cache(maxsize=2)\n",
    "def fib2(n):\n",
    "    if n < 2:\n",
    "        return n\n",
    "    return fib2(n-1) + fib2(n-2)\n",
    "print([fib2(n) for n in range(16)])\n",
    "print(fib2.cache_info())"
   ]
  },
  {
   "cell_type": "code",
   "execution_count": 86,
   "id": "f5123e7e-216b-4582-9c51-c140a6e7d509",
   "metadata": {},
   "outputs": [
    {
     "name": "stdout",
     "output_type": "stream",
     "text": [
      "[0, 1, 2, 3, 4, 5, 6, 7, 8, 9]\n"
     ]
    },
    {
     "data": {
      "text/plain": [
       "45"
      ]
     },
     "execution_count": 86,
     "metadata": {},
     "output_type": "execute_result"
    }
   ],
   "source": [
    "from functools import reduce\n",
    "def mysum(a,b):\n",
    "    return a + b\n",
    "nonnegatives = range(10)\n",
    "print(list(nonnegatives))\n",
    "reduce(mysum, nonnegatives)"
   ]
  },
  {
   "cell_type": "code",
   "execution_count": null,
   "id": "ae53a65b-58ec-48d4-9b8e-50f4e589b21f",
   "metadata": {},
   "outputs": [],
   "source": []
  }
 ],
 "metadata": {
  "kernelspec": {
   "display_name": "Python 3",
   "language": "python",
   "name": "python3"
  },
  "language_info": {
   "codemirror_mode": {
    "name": "ipython",
    "version": 3
   },
   "file_extension": ".py",
   "mimetype": "text/x-python",
   "name": "python",
   "nbconvert_exporter": "python",
   "pygments_lexer": "ipython3",
   "version": "3.8.5"
  }
 },
 "nbformat": 4,
 "nbformat_minor": 5
}
